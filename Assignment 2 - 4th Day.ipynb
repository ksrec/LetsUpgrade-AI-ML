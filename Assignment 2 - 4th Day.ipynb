{
 "cells": [
  {
   "cell_type": "code",
   "execution_count": 29,
   "metadata": {},
   "outputs": [
    {
     "name": "stdout",
     "output_type": "stream",
     "text": [
      "Addition of two complex number= (7+14j)\n",
      "Subtraction of two complex number= (3+6j)\n",
      "Multiplication of two complex number= (-30+40j)\n",
      "Division of two complex number= (2.5+0j)\n"
     ]
    }
   ],
   "source": [
    " #Q.1 Research on whether addition, subtraction, multiplication, division, floor division and modulo\n",
    "# operations be performed on complex numbers. Based on your study, implement a Python\n",
    "# program to demonstrate these operations.\n",
    "\n",
    "CNum1 = 5 + 10j\n",
    "CNum2 = 2 + 4j\n",
    "print('Addition of two complex number=', CNum1 + CNum2)\n",
    "print('Subtraction of two complex number=', CNum1 - CNum2)\n",
    "print('Multiplication of two complex number=', CNum1 * CNum2)\n",
    "print('Division of two complex number=', CNum1 / CNum2)\n",
    "\n",
    "#Floor Division and Simple Modulo operations of complex number can't perform in Python. It will give errors."
   ]
  },
  {
   "cell_type": "code",
   "execution_count": 41,
   "metadata": {},
   "outputs": [
    {
     "name": "stdout",
     "output_type": "stream",
     "text": [
      "0 2 4 6 8 10 12 14 16 18 \n",
      "20 18 16 14 12 10 8 6 4 2 "
     ]
    }
   ],
   "source": [
    "#Q.2 Research on range() functions and its parameters. Create a markdown cell and write in your own\n",
    "# words (no copy-paste from google please) what you understand about it. Implement a small\n",
    "# program of your choice on the same.\n",
    "for i in range(0,20,2):\n",
    "    print (i, end =' ')\n",
    "print()\n",
    "for i in range(20,0,-2):\n",
    "    print (i, end=' ')"
   ]
  },
  {
   "cell_type": "markdown",
   "metadata": {},
   "source": [
    "range() is a function of Python which is used when we want to perform any task for some specific number of times. So, it is used to perform a function for multiple time in sequence.\n",
    "This function is generally used in for loop - how many times to run that loop - creating a series of numbers.\n",
    "range() is also used in list, string, dict, etc... for seperating characters and perform a perticular function.\n",
    "\n",
    "Generally, in range() function, user can pass 1/2/3 arguments.\n",
    "1.) If only one argument is passed through range function, then argument number is used for stop the sequence.\n",
    "    ex. for i in range(2):\n",
    "        In above line, for loop will work from i=0 to i=1. for loop will stop at i=2.\n",
    "2.) If two arguments are passed through range function, then first value is used as start value and second is used as stop         value.\n",
    "   ex. for i in range(2,5):\n",
    "        In above line, for loop will work from i=2 to i=4. for loop will start at i=2 and stop at i=5.\n",
    "3.) If three arguments are passed through range function, then first value is used as start value and second is used as stop       value and third value is used for step.\n",
    "   ex. for i in range(2,10,2):\n",
    "        In above line, for loop will work from i=2 to i=9 in two steps=>2,4,6,8 will be considered. for loop will start at i=2         and stop at i=10 and for loop will work on i=2,4,6,8 value.        "
   ]
  },
  {
   "cell_type": "code",
   "execution_count": 11,
   "metadata": {},
   "outputs": [
    {
     "name": "stdout",
     "output_type": "stream",
     "text": [
      "Number1 is:  87 Number2 is:  19\n",
      "Subtraction is:  68  and Resultant number is  1653\n"
     ]
    }
   ],
   "source": [
    "#Q.3 Consider two numbers. Perform their subtraction and if the result of subtraction is greater than\n",
    "# 25, print their multiplication result else print their division result.\n",
    "from random import randint\n",
    "num1 = randint(1,100)\n",
    "num2 = randint(1,100)\n",
    "if num1 > num2:\n",
    "    sub = num1 - num2\n",
    "elif num2>num1:\n",
    "    sub = num2 - num1\n",
    "if sub > 25:\n",
    "    res = num1 * num2\n",
    "else:\n",
    "    if num1 > num2:\n",
    "        res = num1/num2\n",
    "    else:\n",
    "        res = num2/num1\n",
    "print(\"Number1 is: \",num1,\"Number2 is: \",num2)\n",
    "print(\"Subtraction is: \",sub,\" and Resultant number is \", res)"
   ]
  },
  {
   "cell_type": "code",
   "execution_count": 21,
   "metadata": {},
   "outputs": [
    {
     "name": "stdout",
     "output_type": "stream",
     "text": [
      "[398, 3134, 2, 5774, 7394, 8098]\n"
     ]
    }
   ],
   "source": [
    "#Q.4 Consider a list of 10 elements of integer values. If the number in the list is divisible by 2, print the\n",
    "# result as \"square of that number minus 2\".\n",
    "L = [5,20,56,3,2,76,86,7,90,43]\n",
    "M = []\n",
    "for i in L:\n",
    "    if L[L.index(i)]%2 == 0:\n",
    "        num = (L[L.index(i)]**2) - 2\n",
    "        M.append(num)\n",
    "print (M)"
   ]
  },
  {
   "cell_type": "code",
   "execution_count": 26,
   "metadata": {},
   "outputs": [
    {
     "name": "stdout",
     "output_type": "stream",
     "text": [
      "[54, 34, 66, 43, 26, 75, 45, 90]\n"
     ]
    }
   ],
   "source": [
    "#Q.5 Consider a list of 10 elements. Print all the elements in the list which are greater than 7 when that\n",
    "# number is divided 2.\n",
    "L = [54,34,66,43,26,7,4,75,45,90]\n",
    "M = []\n",
    "for i in L:\n",
    "    if L[L.index(i)]/2 > 7:\n",
    "        M.append(L[L.index(i)])\n",
    "print (M)"
   ]
  }
 ],
 "metadata": {
  "kernelspec": {
   "display_name": "Python 3",
   "language": "python",
   "name": "python3"
  },
  "language_info": {
   "codemirror_mode": {
    "name": "ipython",
    "version": 3
   },
   "file_extension": ".py",
   "mimetype": "text/x-python",
   "name": "python",
   "nbconvert_exporter": "python",
   "pygments_lexer": "ipython3",
   "version": "3.7.6"
  }
 },
 "nbformat": 4,
 "nbformat_minor": 4
}
