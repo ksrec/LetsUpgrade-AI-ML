{
 "cells": [
  {
   "cell_type": "markdown",
   "metadata": {},
   "source": [
    "# 1. Create a 3x3x3 array with random values "
   ]
  },
  {
   "cell_type": "code",
   "execution_count": 2,
   "metadata": {},
   "outputs": [
    {
     "name": "stdout",
     "output_type": "stream",
     "text": [
      "[[[4.46586735e-01 7.12794646e-02 4.09891644e-01]\n",
      "  [9.59594873e-01 9.41186923e-01 2.99305553e-01]\n",
      "  [1.88722444e-01 7.92163839e-01 8.87468523e-02]]\n",
      "\n",
      " [[6.69121185e-01 2.34437491e-01 7.42166749e-01]\n",
      "  [1.86956458e-01 9.69255150e-01 3.31185187e-01]\n",
      "  [8.73665862e-02 7.71962009e-01 1.92653372e-01]]\n",
      "\n",
      " [[1.88899256e-01 4.12142655e-02 7.57300412e-01]\n",
      "  [2.77528616e-01 6.05747303e-01 9.05506539e-01]\n",
      "  [7.33626600e-01 4.97222355e-01 2.77947265e-04]]]\n"
     ]
    }
   ],
   "source": [
    "import numpy as np\n",
    "arr = np.random.random((3,3,3))\n",
    "print(arr)"
   ]
  },
  {
   "cell_type": "markdown",
   "metadata": {},
   "source": [
    "# 2.Create a 5x5 matrix with values 1,2,3,4 just below the diagonal"
   ]
  },
  {
   "cell_type": "code",
   "execution_count": 3,
   "metadata": {},
   "outputs": [
    {
     "name": "stdout",
     "output_type": "stream",
     "text": [
      "[[1 0 0 0 0]\n",
      " [0 2 0 0 0]\n",
      " [0 0 3 0 0]\n",
      " [0 0 0 4 0]\n",
      " [0 0 0 0 5]]\n"
     ]
    }
   ],
   "source": [
    "import numpy as np\n",
    "arr = np.diag([1, 2, 3, 4, 5])\n",
    "print(arr)"
   ]
  },
  {
   "cell_type": "markdown",
   "metadata": {},
   "source": [
    "# 3.Create a 8x8 matrix and fill it with a checkerboard pattern"
   ]
  },
  {
   "cell_type": "code",
   "execution_count": 14,
   "metadata": {},
   "outputs": [
    {
     "name": "stdout",
     "output_type": "stream",
     "text": [
      "[[0 1 0 1 0 1 0 1]\n",
      " [1 0 1 0 1 0 1 0]\n",
      " [0 1 0 1 0 1 0 1]\n",
      " [1 0 1 0 1 0 1 0]\n",
      " [0 1 0 1 0 1 0 1]\n",
      " [1 0 1 0 1 0 1 0]\n",
      " [0 1 0 1 0 1 0 1]\n",
      " [1 0 1 0 1 0 1 0]]\n"
     ]
    }
   ],
   "source": [
    "import numpy as np\n",
    "arr = np.ones((3,3))\n",
    "arr = np.zeros((8,8),dtype=int)\n",
    "\n",
    "arr[1::2,::2] = 1\n",
    "arr[::2,1::2] = 1\n",
    "print(arr)"
   ]
  },
  {
   "cell_type": "markdown",
   "metadata": {},
   "source": [
    "# 4. Normalize a 5x5 random matrix"
   ]
  },
  {
   "cell_type": "code",
   "execution_count": 19,
   "metadata": {},
   "outputs": [
    {
     "name": "stdout",
     "output_type": "stream",
     "text": [
      "Original Array:\n",
      "[[0.07125924 0.83767887 0.56951106 0.11984415 0.3435927 ]\n",
      " [0.44442469 0.35624532 0.18997658 1.         0.12620234]\n",
      " [0.54353954 0.         0.78162325 0.41825797 0.17685049]\n",
      " [0.93448489 0.53479354 0.48640067 0.4346577  0.36269335]\n",
      " [0.90832237 0.18740974 0.57219485 0.80507546 0.83923247]]\n",
      "After normalization:\n",
      "[[0.5343851  0.5746208  0.         0.82050117 1.        ]\n",
      " [0.22591725 0.08993571 0.24254276 0.57998508 0.19235348]\n",
      " [0.89068514 0.92750854 0.96145346 0.16551826 0.06719803]\n",
      " [0.25627748 0.280358   0.89549376 0.61870299 0.08464572]\n",
      " [0.32707313 0.3236299  0.0906765  0.09349342 0.10501775]]\n"
     ]
    }
   ],
   "source": [
    "import numpy as np\n",
    "arr= np.random.random((5,5))\n",
    "print(\"Original Array:\")\n",
    "print(x)\n",
    "arrmax =  arr.max()\n",
    "arrmin = arr.min()\n",
    "Arr= (arr - arrmin)/(arrmax - arrmin)\n",
    "print(\"After normalization:\")\n",
    "print(Arr)"
   ]
  },
  {
   "cell_type": "markdown",
   "metadata": {},
   "source": [
    "# 5.  How to find common values between two arrays?"
   ]
  },
  {
   "cell_type": "code",
   "execution_count": 20,
   "metadata": {},
   "outputs": [
    {
     "name": "stdout",
     "output_type": "stream",
     "text": [
      "Array1:  [ 0 10 20 40 60]\n",
      "Array2:  [10, 30, 40]\n",
      "Common values between two arrays:\n",
      "[10 40]\n"
     ]
    }
   ],
   "source": [
    "import numpy as np\n",
    "array1 = np.array([0, 10, 20, 40, 60])\n",
    "print(\"Array1: \",array1)\n",
    "array2 = [10, 30, 40]\n",
    "print(\"Array2: \",array2)\n",
    "print(\"Common values between two arrays:\")\n",
    "print(np.intersect1d(array1, array2))"
   ]
  },
  {
   "cell_type": "markdown",
   "metadata": {},
   "source": [
    "# 6.How to get the dates of yesterday, today and tomorrow?"
   ]
  },
  {
   "cell_type": "code",
   "execution_count": 22,
   "metadata": {},
   "outputs": [
    {
     "name": "stdout",
     "output_type": "stream",
     "text": [
      "Yestraday:  2020-07-27\n",
      "Today:  2020-07-28\n",
      "Tomorrow:  2020-07-29\n"
     ]
    }
   ],
   "source": [
    "import numpy as np\n",
    "yesterday = np.datetime64('today', 'D') - np.timedelta64(1, 'D')\n",
    "print(\"Yestraday: \",yesterday)\n",
    "today     = np.datetime64('today', 'D')\n",
    "print(\"Today: \",today)\n",
    "tomorrow  = np.datetime64('today', 'D') + np.timedelta64(1, 'D')\n",
    "print(\"Tomorrow: \",tomorrow)"
   ]
  },
  {
   "cell_type": "markdown",
   "metadata": {},
   "source": [
    "# 7. Consider two random array A and B, check if they are equal"
   ]
  },
  {
   "cell_type": "code",
   "execution_count": 24,
   "metadata": {},
   "outputs": [
    {
     "name": "stdout",
     "output_type": "stream",
     "text": [
      "First array:\n",
      "[0 0 1 1 1 0]\n",
      "Second array:\n",
      "[0 1 0 1 0 0]\n",
      "Test above two arrays are equal or not!\n",
      "False\n"
     ]
    }
   ],
   "source": [
    "import numpy as np\n",
    "arr = np.random.randint(0,2,6)\n",
    "print(\"First array:\")\n",
    "print(arr)\n",
    "arr1 = np.random.randint(0,2,6)\n",
    "print(\"Second array:\")\n",
    "print(arr1)\n",
    "print(\"Test above two arrays are equal or not!\")\n",
    "array_equal = np.allclose(arr, arr1)\n",
    "print(array_equal)"
   ]
  },
  {
   "cell_type": "markdown",
   "metadata": {},
   "source": [
    "# 8.Create random vector of size 10 and replace the maximum value by 0 "
   ]
  },
  {
   "cell_type": "code",
   "execution_count": 25,
   "metadata": {},
   "outputs": [
    {
     "name": "stdout",
     "output_type": "stream",
     "text": [
      "Original array:\n",
      "[0.28798284 0.92962683 0.35001511 0.18439987 0.88995877 0.30124903\n",
      " 0.67047484 0.25984495 0.89833223 0.31863168]\n",
      "Maximum value replaced by -1:\n",
      "[ 0.28798284 -1.          0.35001511  0.18439987  0.88995877  0.30124903\n",
      "  0.67047484  0.25984495  0.89833223  0.31863168]\n"
     ]
    }
   ],
   "source": [
    "import numpy as np\n",
    "arr = np.random.random(10)\n",
    "print(\"Original array:\")\n",
    "print(arr)\n",
    "arr[arr.argmax()] = -1\n",
    "print(\"Maximum value replaced by -1:\")\n",
    "print(arr)"
   ]
  },
  {
   "cell_type": "markdown",
   "metadata": {},
   "source": [
    "# 9. How to print all the values of an array?"
   ]
  },
  {
   "cell_type": "code",
   "execution_count": 39,
   "metadata": {},
   "outputs": [
    {
     "name": "stdout",
     "output_type": "stream",
     "text": [
      "[[0. 0. 0. 0.]\n",
      " [0. 0. 0. 0.]\n",
      " [0. 0. 0. 0.]\n",
      " [0. 0. 0. 0.]]\n"
     ]
    }
   ],
   "source": [
    "import numpy as np\n",
    "np.set_printoptions(threshold=30)\n",
    "arr = np.zeros((4, 4))\n",
    "print(arr)"
   ]
  },
  {
   "cell_type": "markdown",
   "metadata": {},
   "source": [
    "# 10.Subtract the mean of each row of a matrix"
   ]
  },
  {
   "cell_type": "code",
   "execution_count": 28,
   "metadata": {},
   "outputs": [
    {
     "name": "stdout",
     "output_type": "stream",
     "text": [
      "Original matrix:\n",
      "\n",
      "[[0.02049841 0.07375614 0.26369683 0.16364753 0.74857877 0.02557691\n",
      "  0.72904708 0.04919231 0.72161079 0.59171976]\n",
      " [0.31098328 0.70414082 0.60142444 0.12408978 0.18291109 0.17231686\n",
      "  0.30873313 0.43134851 0.90742826 0.37461794]\n",
      " [0.92372237 0.05969985 0.68783373 0.88474657 0.02370802 0.52872117\n",
      "  0.72501094 0.89840337 0.31844727 0.23273522]\n",
      " [0.5293941  0.93803493 0.7936058  0.63817082 0.76702019 0.57612596\n",
      "  0.79213942 0.96636712 0.34858873 0.73935193]\n",
      " [0.47167975 0.01984977 0.61916425 0.44212524 0.2339474  0.26196768\n",
      "  0.99339715 0.60952468 0.23589263 0.3344481 ]]\n",
      "\n",
      "Subtract the mean of each row of the said matrix:\n",
      "\n",
      "[[-3.18234042e-01 -2.64976314e-01 -7.50356207e-02 -1.75084927e-01\n",
      "   4.09846313e-01 -3.13155544e-01  3.90314631e-01 -2.89540139e-01\n",
      "   3.82878339e-01  2.52987304e-01]\n",
      " [-1.00816131e-01  2.92341408e-01  1.89625028e-01 -2.87709628e-01\n",
      "  -2.28888318e-01 -2.39482555e-01 -1.03066279e-01  1.95490958e-02\n",
      "   4.95628849e-01 -3.71814704e-02]\n",
      " [ 3.95419517e-01 -4.68602999e-01  1.59530877e-01  3.56443720e-01\n",
      "  -5.04594831e-01  4.18321737e-04  1.96708091e-01  3.70100515e-01\n",
      "  -2.09855582e-01 -2.95567631e-01]\n",
      " [-1.79485800e-01  2.29155031e-01  8.47258999e-02 -7.07090816e-02\n",
      "   5.81402922e-02 -1.32753941e-01  8.32595186e-02  2.57487222e-01\n",
      "  -3.60291170e-01  3.04720285e-02]\n",
      " [ 4.94800842e-02 -4.02349897e-01  1.96964583e-01  1.99255734e-02\n",
      "  -1.88252261e-01 -1.60231988e-01  5.71197491e-01  1.87325013e-01\n",
      "  -1.86307035e-01 -8.77515632e-02]]\n"
     ]
    }
   ],
   "source": [
    "import numpy as np\n",
    "print(\"Original matrix:\\n\")\n",
    "arr = np.random.rand(5, 10)\n",
    "print(arr)\n",
    "print(\"\\nSubtract the mean of each row of the said matrix:\\n\")\n",
    "arr1 = arr - arr.mean(axis=1, keepdims=True)\n",
    "print(arr1)"
   ]
  },
  {
   "cell_type": "markdown",
   "metadata": {},
   "source": [
    "# 11.Consider a given vector, how to add 1 to each element indexed by a second vector (be careful with repeated indices)? "
   ]
  },
  {
   "cell_type": "code",
   "execution_count": 34,
   "metadata": {},
   "outputs": [
    {
     "name": "stdout",
     "output_type": "stream",
     "text": [
      "[3. 3. 2. 2. 2. 3. 4. 3. 4. 4.]\n"
     ]
    }
   ],
   "source": [
    "import numpy as np\n",
    "arr = np.ones(10)\n",
    "arr1 = np.random.randint(0,len(arr),20)\n",
    "arr += np.bincount(arr1, minlength=len(arr))\n",
    "print(arr)"
   ]
  },
  {
   "cell_type": "markdown",
   "metadata": {},
   "source": [
    "# 12.How to get the diagonal of a dot product?"
   ]
  },
  {
   "cell_type": "code",
   "execution_count": 35,
   "metadata": {},
   "outputs": [
    {
     "data": {
      "text/plain": [
       "array([73,  3, 74])"
      ]
     },
     "execution_count": 35,
     "metadata": {},
     "output_type": "execute_result"
    }
   ],
   "source": [
    "A = np.random.randint(0,10,(3,3))\n",
    "B= np.random.randint(0,10,(3,3))\n",
    "np.diag(np.dot(A, B))\n",
    "np.sum(A * B.T, axis=1)\n",
    "np.einsum(\"ij,ji->i\", A, B)"
   ]
  },
  {
   "cell_type": "markdown",
   "metadata": {},
   "source": [
    "# 13.How to find the most frequent value in an array?"
   ]
  },
  {
   "cell_type": "code",
   "execution_count": 33,
   "metadata": {},
   "outputs": [
    {
     "name": "stdout",
     "output_type": "stream",
     "text": [
      "Original array:\n",
      "[1 5 9 4 7 2 3 6 2 6 0 7 8 0 8 5 2 0 8 1 1 1 5 3 7 5 4 7 8 4 0 0 9 1 6 9 8\n",
      " 3 0 7]\n",
      "Most frequent value in the above array:\n",
      "0\n"
     ]
    }
   ],
   "source": [
    "import numpy as np\n",
    "arr = np.random.randint(0, 10, 40)\n",
    "print(\"Original array:\")\n",
    "print(arr)\n",
    "print(\"Most frequent value in the above array:\")\n",
    "print(np.bincount(arr).argmax())"
   ]
  },
  {
   "cell_type": "markdown",
   "metadata": {},
   "source": [
    "# 14.How to get the n largest values of an array"
   ]
  },
  {
   "cell_type": "code",
   "execution_count": 32,
   "metadata": {},
   "outputs": [
    {
     "name": "stdout",
     "output_type": "stream",
     "text": [
      "Original array:\n",
      "[0 1 2 3 4 5 6 7 8 9]\n",
      "[9]\n"
     ]
    }
   ],
   "source": [
    "import numpy as np\n",
    "arr = np.arange(10)\n",
    "print(\"Original array:\")\n",
    "print(arr)\n",
    "np.random.shuffle(arr)\n",
    "n = 1\n",
    "print (arr[np.argsort(arr)[-n:]])"
   ]
  },
  {
   "cell_type": "markdown",
   "metadata": {},
   "source": [
    "# 15.How to create a record array from a regular array?"
   ]
  },
  {
   "cell_type": "code",
   "execution_count": 31,
   "metadata": {},
   "outputs": [
    {
     "name": "stdout",
     "output_type": "stream",
     "text": [
      "(1, 'Red', 12.2)\n",
      "(2, 'Green', 15.)\n",
      "(3, 'White', 20.)\n"
     ]
    }
   ],
   "source": [
    "import numpy as np\n",
    "arr1=np.array([1,2,3,4])\n",
    "arr2=np.array(['Red','Green','White','Orange'])\n",
    "arr3=np.array([12.20,15,20,40])\n",
    "result= np.core.records.fromarrays([arr1, arr2, arr3],names='a,b,c')\n",
    "print(result[0])\n",
    "print(result[1])\n",
    "print(result[2])"
   ]
  }
 ],
 "metadata": {
  "kernelspec": {
   "display_name": "Python 3",
   "language": "python",
   "name": "python3"
  },
  "language_info": {
   "codemirror_mode": {
    "name": "ipython",
    "version": 3
   },
   "file_extension": ".py",
   "mimetype": "text/x-python",
   "name": "python",
   "nbconvert_exporter": "python",
   "pygments_lexer": "ipython3",
   "version": "3.7.6"
  }
 },
 "nbformat": 4,
 "nbformat_minor": 2
}
