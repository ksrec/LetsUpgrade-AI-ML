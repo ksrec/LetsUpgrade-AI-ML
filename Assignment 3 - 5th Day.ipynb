{
 "cells": [
  {
   "cell_type": "code",
   "execution_count": 1,
   "metadata": {},
   "outputs": [
    {
     "name": "stdout",
     "output_type": "stream",
     "text": [
      "3 5 7 11 13 17 19 23 29 31 37 41 43 47 53 59 61 67 71 73 "
     ]
    }
   ],
   "source": [
    "#Q.1 Write a Python program to find the first 20 non-even prime natural numbers.\n",
    "\n",
    "for num in range(3,75):  \n",
    "    if num > 1:  \n",
    "        for i in range(2,num):  \n",
    "            if (num % i) == 0:  \n",
    "                break  \n",
    "        else:  \n",
    "            print(num,end=' ')  "
   ]
  },
  {
   "cell_type": "code",
   "execution_count": 4,
   "metadata": {},
   "outputs": [
    {
     "name": "stdout",
     "output_type": "stream",
     "text": [
      "Enter a name: Khyati S. Raval\n",
      "Khyati S. Raval\n",
      "15\n",
      "khyati s. raval\n",
      "KHYATI S. RAVAL\n",
      "Khyati S. Raval\n",
      "0\n",
      "5\n",
      "True\n",
      "Khyati s. raval\n",
      "Khyati S. Raval\n",
      "kHYATI s. rAVAL\n",
      "Khyati S. Raval\n",
      "('Khy', 'a', 'ti S. Raval')\n",
      "hai\n",
      "lavaR .S itayhK\n"
     ]
    }
   ],
   "source": [
    "#Q.2 Write a Python program to implement 15 functions of string.\n",
    "#1.input\n",
    "string=input(\"Enter a name: \")\n",
    "print(string)\n",
    "#2.len\n",
    "l = len(string)\n",
    "print(l)\n",
    "#3.lower()\n",
    "print (string.lower())\n",
    "#4.upper()\n",
    "print(string.upper())\n",
    "#5.replace(x,y)\n",
    "print(string.replace('A','B'))\n",
    "#6.count(x)\n",
    "print(string.count('B'))\n",
    "#7.index(x)\n",
    "print(string.index('i'))\n",
    "#8.isalpha()\n",
    "print(string[0].isalpha())\n",
    "#9.capitalize()\n",
    "print(string.capitalize())\n",
    "#10.title\n",
    "print(string.title())\n",
    "#11.swapcase\n",
    "print(string.swapcase())\n",
    "#12.rstrip\n",
    "print(string.rstrip())\n",
    "#13.partition\n",
    "print(string.partition('a'))\n",
    "#14.slicing - char from 1to 6, by two seperator\n",
    "print(string[1:7:2])\n",
    "#15.slicing - reverse string\n",
    "print(string[::-1])"
   ]
  },
  {
   "cell_type": "code",
   "execution_count": 5,
   "metadata": {},
   "outputs": [
    {
     "name": "stdout",
     "output_type": "stream",
     "text": [
      "String is Palindrome.\n"
     ]
    }
   ],
   "source": [
    "#Q.3 Write a Python program to check if the given string is a Palindrome or Anagram or None of them.\n",
    "# Display the message accordingly to the user.\n",
    "    \n",
    "s1 = \"abcdef\"\n",
    "s2 = \"fedcba\"\n",
    "\n",
    "if s1 == s2[::-1]:\n",
    "    print(\"String is Palindrome.\") \n",
    "elif sorted(s1) == sorted(s2):\n",
    "    print(\"String is Anagram.\")\n",
    "else:\n",
    "    print(\"String is neigther Palindrom nor Anagram.\")"
   ]
  },
  {
   "cell_type": "code",
   "execution_count": 9,
   "metadata": {},
   "outputs": [
    {
     "name": "stdout",
     "output_type": "stream",
     "text": [
      "hiallhowareyou\n"
     ]
    }
   ],
   "source": [
    "#Q.4 Write a Python's user defined function that removes all the additional characters from the string\n",
    "# and converts it finally to lower case using built-in lower(). eg: If the string is \"Dr. Darshan Ingle\n",
    "# @AI-ML Trainer\", then the output be \"drdarshaningleaimltrainer\".\n",
    "s = 'Hi, All, How are you?'\n",
    "for c in ',.;:-_?()/\\'\" ':\n",
    "    s=s.replace(c,'')\n",
    "print(s.lower())"
   ]
  }
 ],
 "metadata": {
  "kernelspec": {
   "display_name": "Python 3",
   "language": "python",
   "name": "python3"
  },
  "language_info": {
   "codemirror_mode": {
    "name": "ipython",
    "version": 3
   },
   "file_extension": ".py",
   "mimetype": "text/x-python",
   "name": "python",
   "nbconvert_exporter": "python",
   "pygments_lexer": "ipython3",
   "version": "3.7.6"
  }
 },
 "nbformat": 4,
 "nbformat_minor": 4
}
