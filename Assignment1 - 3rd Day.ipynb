{
 "cells": [
  {
   "cell_type": "markdown",
   "metadata": {},
   "source": [
    "# 3rd Day - Assignment 1"
   ]
  },
  {
   "cell_type": "code",
   "execution_count": 5,
   "metadata": {},
   "outputs": [
    {
     "name": "stdout",
     "output_type": "stream",
     "text": [
      "Subtraction of two complex number= (3+6j)\n"
     ]
    }
   ],
   "source": [
    "#Q.1 Write a program to subtract two complex numbers in Python.\n",
    "\n",
    "CNum1 = 5 + 10j\n",
    "CNum2 = 2 + 4j\n",
    "print('Subtraction of two complex number=', CNum1 - CNum2)"
   ]
  },
  {
   "cell_type": "code",
   "execution_count": 11,
   "metadata": {},
   "outputs": [
    {
     "name": "stdout",
     "output_type": "stream",
     "text": [
      "3.0\n"
     ]
    }
   ],
   "source": [
    "#Q.2 Write a program to find the fourth root of a number.\n",
    "\n",
    "Num = 81\n",
    "a = 3\n",
    "b = Num/a\n",
    "b = b/a\n",
    "b = b/a\n",
    "print(b)"
   ]
  },
  {
   "cell_type": "code",
   "execution_count": 14,
   "metadata": {},
   "outputs": [
    {
     "name": "stdout",
     "output_type": "stream",
     "text": [
      "First Number is  34 Second Number is  55\n",
      "After Swaping: First Number is  55  Second Number is  34\n"
     ]
    }
   ],
   "source": [
    "#Q..3 Write a program to swap two numbers in Python with the help of a temporary variable.\n",
    "Num1 = 34\n",
    "Num2 = 55\n",
    "print(\"First Number is \",Num1, \"Second Number is \",Num2)\n",
    "a = Num1\n",
    "Num1 = Num2\n",
    "Num2 = a\n",
    "print(\"After Swaping: First Number is \", Num1, \" Second Number is \",Num2)"
   ]
  },
  {
   "cell_type": "code",
   "execution_count": 17,
   "metadata": {},
   "outputs": [
    {
     "name": "stdout",
     "output_type": "stream",
     "text": [
      "First Number is  34 Second Number is  55\n",
      "After Swaping: First Number is  55  Second Number is  34\n"
     ]
    }
   ],
   "source": [
    "#Q.4 Write a program to swap two numbers in Python without using a temporary variable.\n",
    "Num1 = 34\n",
    "Num2 = 55\n",
    "print(\"First Number is \",Num1, \"Second Number is \",Num2)\n",
    "\n",
    "Num1 = Num1 * Num2 \n",
    "Num2 = Num1 // Num2\n",
    "Num1 = Num1 // Num2\n",
    "print(\"After Swaping: First Number is \", Num1, \" Second Number is \",Num2)"
   ]
  },
  {
   "cell_type": "code",
   "execution_count": 20,
   "metadata": {},
   "outputs": [
    {
     "name": "stdout",
     "output_type": "stream",
     "text": [
      "Temperature in Kelvin  277.59444444444443\n",
      "Temperature in Celsius  4.444444444444445\n"
     ]
    }
   ],
   "source": [
    "#Q.5 Write a program to convert fahrenheit to kelvin and celsius both.\n",
    "tempF = 40\n",
    "tempK = (tempF + 459.67)* 5/9 \n",
    "print(\"Temperature in Kelvin \", tempK)\n",
    "tempC = (tempF - 32) * 5/9 \n",
    "print(\"Temperature in Celsius \", tempC)"
   ]
  },
  {
   "cell_type": "code",
   "execution_count": 28,
   "metadata": {},
   "outputs": [
    {
     "name": "stdout",
     "output_type": "stream",
     "text": [
      "<class 'bool'> <class 'int'> <class 'float'> <class 'complex'> <class 'str'> <class 'list'> <class 'set'> <class 'dict'> <class 'tuple'>\n"
     ]
    }
   ],
   "source": [
    "#Q.6 Write a program to demonstrate all the available data types in Python. Hint: Use type() function.\n",
    "b = True\n",
    "numI = 11\n",
    "numF = 11.5\n",
    "numC = 1 + 2j\n",
    "ch = \"Python\"\n",
    "L = [1,2,3]\n",
    "S = {1,2,3}\n",
    "D = {'x':1,'y':2,'z':3}\n",
    "T = (1,2,3)\n",
    "print(type(b),type(numI),type(numF),type(numC),type(ch),type(L),type(S),type(D),type(T))"
   ]
  },
  {
   "cell_type": "code",
   "execution_count": null,
   "metadata": {},
   "outputs": [],
   "source": [
    "#Q.7 Create a Markdown cell in jupyter and list the steps discussed in the session by Dr. Darshan Ingle sir to create \n",
    "# Github profile and upload Githubs Assignment link."
   ]
  },
  {
   "cell_type": "markdown",
   "metadata": {},
   "source": [
    "Create GitHub Profile:\n",
    "1.) Create a new free account in https://github.com website.\n",
    "2.) Go to profile and changed it if you want.\n",
    "3.) Create a new repository and give it a name.(Here it's LetsUpgrade-AI-ML).\n",
    "4.) Create a python file(.ipynb) in computer if you are using Jupitor Notebook for programming or you can write code in online     platform also.\n",
    "5.) Then click on uploading an existing file and browse it from your computer path and upload it to github repository by           clicking on commit changes.\n",
    "6.) Now go to Assignment Submission Form (Google Form) and fill the form and submit.\n",
    "7.) Check your files are uploaded or not."
   ]
  }
 ],
 "metadata": {
  "kernelspec": {
   "display_name": "Python 3",
   "language": "python",
   "name": "python3"
  },
  "language_info": {
   "codemirror_mode": {
    "name": "ipython",
    "version": 3
   },
   "file_extension": ".py",
   "mimetype": "text/x-python",
   "name": "python",
   "nbconvert_exporter": "python",
   "pygments_lexer": "ipython3",
   "version": "3.7.6"
  }
 },
 "nbformat": 4,
 "nbformat_minor": 4
}
