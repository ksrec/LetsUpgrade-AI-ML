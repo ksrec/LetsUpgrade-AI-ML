{
 "cells": [
  {
   "cell_type": "code",
   "execution_count": 1,
   "metadata": {},
   "outputs": [
    {
     "name": "stdout",
     "output_type": "stream",
     "text": [
      "Do you want to enter email Id: Y/N: y\n",
      "Enter email address: abc@def.com\n",
      "User name is : abc and Comapny Name is : def\n",
      "Do you want to enter more email Id: Y/N: Y\n",
      "Enter email address: xyz@mnl.com\n",
      "User name is : xyz and Comapny Name is : mnl\n",
      "Do you want to enter more email Id: Y/N: n\n"
     ]
    }
   ],
   "source": [
    "#Q.1 Assuming that we have some email addresses in the \"username@companyname.com\" format, please write program to print the \n",
    "#company name of a given email address. Both user names and company names are composed of letters only.\n",
    "x = input(\"Do you want to enter email Id: Y/N: \")\n",
    "while(x=='y'or x== 'Y'):\n",
    "    s = input(\"Enter email address: \")\n",
    "    a = s.index('@')\n",
    "    b = s.index('.c')\n",
    "    user = s[:a]\n",
    "    company = s[a+1:b]\n",
    "    print(\"User name is :\", user, \"and Comapny Name is :\", company)\n",
    "    x = input(\"Do you want to enter more email Id: Y/N: \")  "
   ]
  },
  {
   "cell_type": "code",
   "execution_count": 2,
   "metadata": {},
   "outputs": [
    {
     "name": "stdout",
     "output_type": "stream",
     "text": [
      "Enter words seperated by comma:without,hello,bag,world\n",
      "['without', 'hello', 'bag', 'world']\n",
      "bag,hello,without,world\n"
     ]
    }
   ],
   "source": [
    "#Q.2 Write a program that accepts a comma-seperated sequence of words as input and prints the words in a comma seperated \n",
    "#sequence after sorting them alphabetically.\n",
    "s = 'abcdefghijklmnopqrstuvwxyz'\n",
    "st=input(\"Enter words seperated by comma:\" )\n",
    "l=[]\n",
    "l=st.split(',')\n",
    "print(l)\n",
    "m = sorted(l)\n",
    "st1=','.join(m)\n",
    "print(st1)"
   ]
  },
  {
   "cell_type": "code",
   "execution_count": 3,
   "metadata": {},
   "outputs": [],
   "source": [
    "#Q.3 Create your own Jupeter Notebook for sets."
   ]
  },
  {
   "cell_type": "markdown",
   "metadata": {},
   "source": [
    "A set is a collection which is unordered and unindexed. In Python sets are written with curly brackets.\n",
    "A Python set is the collection of the unordered items. Each element in the set must be unique, immutable, and the sets remove the duplicate elements. Sets are mutable which means we can modify it after its creation.\n",
    "\n",
    "Unlike other collections in Python, there is no index attached to the elements of the set, i.e., we cannot directly access any element of the set by the index. However, we can print them all together, or we can get the list of elements by looping through the set.\n",
    "It can contain any type of element such as integer, float, tuple etc. But mutable elements (list, dictionary, set) can't be a member of set.\n",
    "Creating an empty set is a bit different because empty curly {} braces are also used to create a dictionary as well. So Python provides the set() method used without an argument to create an empty set.\n",
    "\n",
    "Python Set Operations\n",
    "Set can be performed mathematical operation such as union, intersection, difference, and symmetric difference. Python provides the facility to carry out these operations with operators or methods. We describe these operations as follows.\n",
    "\n",
    "Union of two Sets\n",
    "The union of two sets is calculated by using the pipe (|) operator. The union of the two sets contains all the items that are present in both the sets.\n",
    "Intersection of two sets\n",
    "The intersection of two sets can be performed by the and & operator or the intersection() function. The intersection of the two sets is given as the set of the elements that common in both sets.\n",
    "Difference between the two sets\n",
    "The difference of two sets can be calculated by using the subtraction (-) operator or intersection() method. Suppose there are two sets A and B, and the difference is A-B that denotes the resulting set will be obtained that element of A, which is not present in the set B.\n",
    "Symmetric Difference of two sets\n",
    "The symmetric difference of two sets is calculated by ^ operator or symmetric_difference() method.\n",
    "Set comparisons\n",
    "Python allows us to use the comparison operators i.e., <, >, <=, >= , == with the sets by using which we can check whether a set is a subset, superset, or equivalent to other set. The boolean true or false is returned depending upon the items present inside the sets."
   ]
  },
  {
   "cell_type": "code",
   "execution_count": 20,
   "metadata": {},
   "outputs": [
    {
     "name": "stdout",
     "output_type": "stream",
     "text": [
      "[5]\n"
     ]
    }
   ],
   "source": [
    "#Q.4 Given a list of n-1 numbers ranging from 1 to n, your task is to find the missing number. There are no duplicates. \n",
    "n=[]\n",
    "L=[]\n",
    "s = \"1 2 4 6 3 7 8\"\n",
    "n=s.split(' ')\n",
    "n=sorted(n)\n",
    "cnt = int(n[0])\n",
    "for i in range (len(n)):\n",
    "    a = n[i]\n",
    "    if cnt!=int(a):\n",
    "            L.append(cnt)\n",
    "            cnt+=1\n",
    "    cnt += 1        \n",
    "print(L)"
   ]
  },
  {
   "cell_type": "code",
   "execution_count": 25,
   "metadata": {},
   "outputs": [
    {
     "name": "stdout",
     "output_type": "stream",
     "text": [
      "[12, 24, 35, 88, 120, 155]\n"
     ]
    }
   ],
   "source": [
    "#Q.5 With a given list L, write a program to print this list L after removing all duplicate values with original order reserved.\n",
    "op=[]\n",
    "L =[12, 24, 35, 24, 88, 120, 155, 88, 120, 155]\n",
    "L=sorted(L)\n",
    "for i in L:\n",
    "    if i not in op:\n",
    "        op.append(i)\n",
    "print(op)"
   ]
  }
 ],
 "metadata": {
  "kernelspec": {
   "display_name": "Python 3",
   "language": "python",
   "name": "python3"
  },
  "language_info": {
   "codemirror_mode": {
    "name": "ipython",
    "version": 3
   },
   "file_extension": ".py",
   "mimetype": "text/x-python",
   "name": "python",
   "nbconvert_exporter": "python",
   "pygments_lexer": "ipython3",
   "version": "3.7.6"
  }
 },
 "nbformat": 4,
 "nbformat_minor": 4
}
