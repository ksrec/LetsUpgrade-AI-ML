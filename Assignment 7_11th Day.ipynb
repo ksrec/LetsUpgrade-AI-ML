{
 "cells": [
  {
   "cell_type": "code",
   "execution_count": 4,
   "metadata": {},
   "outputs": [
    {
     "name": "stdout",
     "output_type": "stream",
     "text": [
      "0.9360778239640097 7.545161167077795e-06\n"
     ]
    }
   ],
   "source": [
    "#Q.1 Based on the learning today about correlation. Find out correlation between attrition and other\n",
    "#variables Like Age, Monthly Income etc.\n",
    "#Form the hypothesis find correlation r and p value using python and specified module and\n",
    "#methods and give the inference according to your results and state which hypothesisis correct\n",
    "#and why .\n",
    "import pandas as pd\n",
    "from scipy.stats import pearsonr\n",
    "dataset=pd.read_excel(\"Correlation.xlsx\",sheet_name=1)\n",
    "dataset.head()\n",
    "a1=dataset.Attitude #toward the City\n",
    "a2=dataset.Duration #of Residence\n",
    "stat, p = pearsonr(a1,a2)\n",
    "print(stat, p)"
   ]
  },
  {
   "cell_type": "code",
   "execution_count": null,
   "metadata": {},
   "outputs": [],
   "source": []
  }
 ],
 "metadata": {
  "kernelspec": {
   "display_name": "Python 3",
   "language": "python",
   "name": "python3"
  },
  "language_info": {
   "codemirror_mode": {
    "name": "ipython",
    "version": 3
   },
   "file_extension": ".py",
   "mimetype": "text/x-python",
   "name": "python",
   "nbconvert_exporter": "python",
   "pygments_lexer": "ipython3",
   "version": "3.7.6"
  }
 },
 "nbformat": 4,
 "nbformat_minor": 4
}
